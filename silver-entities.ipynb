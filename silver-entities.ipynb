{
 "cells": [
  {
   "cell_type": "code",
   "execution_count": 0,
   "metadata": {
    "application/vnd.databricks.v1+cell": {
     "cellMetadata": {
      "byteLimit": 2048000,
      "rowLimit": 10000
     },
     "inputWidgets": {},
     "nuid": "adc2f789-82a6-4310-8a2a-b96d2858a6cf",
     "showTitle": false,
     "tableResultSettingsMap": {},
     "title": ""
    }
   },
   "outputs": [],
   "source": [
    "# Read Delta or Parquet data from Bronze layer\n",
    "df = spark.read.format(\"parquet\").load(\"abfss://bronze@ahmedolympicsdatalake.dfs.core.windows.net/coaches/\")\n",
    "df.display()"
   ]
  },
  {
   "cell_type": "code",
   "execution_count": 0,
   "metadata": {
    "application/vnd.databricks.v1+cell": {
     "cellMetadata": {
      "byteLimit": 2048000,
      "rowLimit": 10000
     },
     "inputWidgets": {},
     "nuid": "81ed4f4e-3297-4560-8094-eafe39b1ff9f",
     "showTitle": false,
     "tableResultSettingsMap": {},
     "title": ""
    }
   },
   "outputs": [],
   "source": [
    "# Transform: clean 'Name' and keep only 'Name' and 'Country'\n",
    "df_transformed = df.selectExpr(\"trim(Name) as Name\", \"Country\")"
   ]
  },
  {
   "cell_type": "code",
   "execution_count": 0,
   "metadata": {
    "application/vnd.databricks.v1+cell": {
     "cellMetadata": {
      "byteLimit": 2048000,
      "rowLimit": 10000
     },
     "inputWidgets": {},
     "nuid": "c0a15313-5c79-4109-a476-baeae7414603",
     "showTitle": false,
     "tableResultSettingsMap": {},
     "title": ""
    }
   },
   "outputs": [
    {
     "output_type": "stream",
     "name": "stdout",
     "output_type": "stream",
     "text": [
      "root\n |-- code: string (nullable = true)\n |-- current: string (nullable = true)\n |-- name: string (nullable = true)\n |-- gender: string (nullable = true)\n |-- function: string (nullable = true)\n |-- category: string (nullable = true)\n |-- country_code: string (nullable = true)\n |-- country: string (nullable = true)\n |-- country_long: string (nullable = true)\n |-- disciplines: string (nullable = true)\n |-- events: string (nullable = true)\n |-- birth_date: string (nullable = true)\n\n"
     ]
    }
   ],
   "source": [
    "df.printSchema()"
   ]
  },
  {
   "cell_type": "code",
   "execution_count": 0,
   "metadata": {
    "application/vnd.databricks.v1+cell": {
     "cellMetadata": {
      "byteLimit": 2048000,
      "rowLimit": 10000
     },
     "inputWidgets": {},
     "nuid": "a6a0144d-268d-408a-a5d2-6e7be5bfde3d",
     "showTitle": false,
     "tableResultSettingsMap": {},
     "title": ""
    }
   },
   "outputs": [
    {
     "output_type": "stream",
     "name": "stdout",
     "output_type": "stream",
     "text": [
      "root\n |-- code: string (nullable = true)\n |-- current: string (nullable = true)\n |-- name: string (nullable = true)\n |-- gender: string (nullable = true)\n |-- function: string (nullable = true)\n |-- category: string (nullable = true)\n |-- country_code: string (nullable = true)\n |-- country: string (nullable = true)\n |-- country_long: string (nullable = true)\n |-- disciplines: string (nullable = true)\n |-- events: string (nullable = true)\n |-- birth_date: date (nullable = true)\n\n"
     ]
    }
   ],
   "source": [
    "from pyspark.sql.functions import to_date\n",
    "# Step 2: Convert 'birth_date' from string to DateType (default format: yyyy-MM-dd)\n",
    "df_transformed = df.withColumn(\"birth_date\", to_date(\"birth_date\", \"yyyy-MM-dd\"))\n",
    "\n",
    "# Optional: Check the schema after transformation\n",
    "df_transformed.printSchema()"
   ]
  },
  {
   "cell_type": "code",
   "execution_count": 0,
   "metadata": {
    "application/vnd.databricks.v1+cell": {
     "cellMetadata": {
      "byteLimit": 2048000,
      "rowLimit": 10000
     },
     "inputWidgets": {},
     "nuid": "031b2073-678a-4d8c-9847-5118809d8846",
     "showTitle": false,
     "tableResultSettingsMap": {},
     "title": ""
    }
   },
   "outputs": [],
   "source": [
    "# Step 3: Write the transformed DataFrame to Silver layer in Delta format\n",
    "df_transformed.write.format(\"delta\").mode(\"overwrite\").save(\"abfss://silver@ahmedolympicsdatalake.dfs.core.windows.net/coaches/\")\n"
   ]
  }
 ],
 "metadata": {
  "application/vnd.databricks.v1+notebook": {
   "computePreferences": null,
   "dashboards": [],
   "environmentMetadata": {
    "base_environment": "",
    "environment_version": "2"
   },
   "inputWidgetPreferences": null,
   "language": "python",
   "notebookMetadata": {
    "pythonIndentUnit": 4
   },
   "notebookName": "silver-entities",
   "widgets": {}
  },
  "language_info": {
   "name": "python"
  }
 },
 "nbformat": 4,
 "nbformat_minor": 0
}